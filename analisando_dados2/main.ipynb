{
 "cells": [
  {
   "cell_type": "markdown",
   "metadata": {},
   "source": [
    "# Python Insights - Analisando Dados com Python\n",
    "\n",
    "### Case - Cancelamento de Clientes\n",
    "\n",
    "Você foi contratado por uma empresa com mais de 800 mil clientes para um projeto de Dados. Recentemente a empresa percebeu que da sua base total de clientes, a maioria são clientes inativos, ou seja, que já cancelaram o serviço.\n",
    "\n",
    "Precisando melhorar seus resultados ela quer conseguir entender os principais motivos desses cancelamentos e quais as ações mais eficientes para reduzir esse número.\n",
    "\n",
    "Base de dados e arquivos: https://drive.google.com/drive/folders/1uDesZePdkhiraJmiyeZ-w5tfc8XsNYFZ?usp=drive_link"
   ]
  },
  {
   "cell_type": "code",
   "execution_count": 7,
   "metadata": {},
   "outputs": [],
   "source": [
    "\n",
    "# Passo 1 : importar a base de dados\n",
    "\n",
    "# !pip install pandas openpylx numpy plotly ipykernel nbformat\n",
    "\n",
    "# # BIBLIOTECAS - CODIGOS\n",
    "# import pandas as pd\n",
    "# tabela = pd.read_csv(\"cancelamentos-sample.csv\")\n",
    "# tabela = tabela.drop(columns=\"CustomerID\")\n",
    "# display(tabela)\n",
    "\n"
   ]
  },
  {
   "cell_type": "code",
   "execution_count": 8,
   "metadata": {},
   "outputs": [],
   "source": [
    "# Passo 3 : Tratamento de dados - Corrigir as cagadas da base de dados\n",
    "# 2)informações em formato errado \n",
    "\n",
    "# display( tabela.info()) #resumo da base de dados\n",
    "\n",
    "# float numero de ponto flutuante >> casa decimal\n",
    "# object - coluna de texto\n",
    "\n",
    "\n",
    "\n",
    "# # 3) valores vazios # posso tratar de outra maneira como p ex aproxima pro valor medio, mas nesse caso 50000 vs 5 casos nulos\n",
    "# # vamos excluir as que tem valor vazio\n",
    "# tabela = tabela.dropna()\n",
    "# # tabela.fillna( calcula media da coluna)\n",
    "# display(tabela.info())\n",
    "\n",
    "\n",
    "\n"
   ]
  },
  {
   "cell_type": "code",
   "execution_count": 9,
   "metadata": {},
   "outputs": [],
   "source": [
    "# # Passo 4 : Analise inicial dos cancelamentos\n",
    "# display(tabela[\"cancelou\"].value_counts()) # em porcentagem .value_counts(normalize=true)\n",
    "\n",
    "# display(tabela[\"cancelou\"].value_counts(normalize=True)) \n",
    "\n"
   ]
  },
  {
   "cell_type": "code",
   "execution_count": 10,
   "metadata": {},
   "outputs": [],
   "source": [
    "# Passo 5:  analise das causas de cancelamentos\n",
    "\n",
    "\n",
    "# import plotly.express as px\n",
    "\n",
    "# ver plotly python google e ver as variacoes de graficos\n",
    "#====================================================================\n",
    "# # criar grafico\n",
    "# grafico = px.histogram(tabela, x=\"duracao_contrato\", color=\"cancelou\")\n",
    "# #mostrar o grafico\n",
    "# grafico.show()\n",
    "#=====================================================================\n",
    "#coluna = \"assinatura\"\n",
    "\n",
    "\n",
    "# ============== comentei para subir no gitub ===========\n",
    "\n",
    "# para cada coluna da minha tabela quero repetir\n",
    "# criar grafico todos os graficos \n",
    "\n",
    "# for coluna in tabela.columns: \n",
    "#     grafico = px.histogram(tabela, x=coluna, color=\"cancelou\")\n",
    "#     # mostrar o grafico\n",
    "#     grafico.show()"
   ]
  },
  {
   "cell_type": "code",
   "execution_count": 11,
   "metadata": {},
   "outputs": [],
   "source": [
    "# clientes do contrato mensal TODOS cancelam\n",
    "    # ofercer desconto nos planos anuais e trimestrais\n",
    "# clientes que ligam mais do que 4 vezes para o call center, cancelam\n",
    "    # criar um processo para resolver o problema do cliente em no máximo 3 ligações\n",
    "# clientes que atrasaram mais de 20 dias, cancelaram\n",
    "    # política de resolver atrasos em até 10 dias (equipe financeira)\n",
    "\n",
    "# filtro = tabela[\"duracao_contrato\"]!=\"Monthly\"\n",
    "# tabela = tabela[filtro]\n",
    "# tabela = tabela[tabela[\"ligacoes_callcenter\"]<=4]\n",
    "# tabela = tabela[tabela[\"dias_atraso\"]<=20]\n",
    "\n",
    "\n",
    "\n",
    "# display(tabela[\"cancelou\"].value_counts())\n",
    "# # em percentual\n",
    "# display(tabela[\"cancelou\"].value_counts(normalize=True).map(\"{:.1%}\".format))\n"
   ]
  }
 ],
 "metadata": {
  "kernelspec": {
   "display_name": "base",
   "language": "python",
   "name": "python3"
  },
  "language_info": {
   "codemirror_mode": {
    "name": "ipython",
    "version": 3
   },
   "file_extension": ".py",
   "mimetype": "text/x-python",
   "name": "python",
   "nbconvert_exporter": "python",
   "pygments_lexer": "ipython3",
   "version": "3.12.1"
  },
  "orig_nbformat": 4
 },
 "nbformat": 4,
 "nbformat_minor": 2
}
